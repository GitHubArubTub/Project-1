{
 "cells": [
  {
   "cell_type": "code",
   "execution_count": 2,
   "id": "c5b13599-d4cd-42b6-ada6-75cc87a7d662",
   "metadata": {},
   "outputs": [],
   "source": [
    "import os\n",
    "import requests\n",
    "import pandas as pd\n",
    "from dotenv import load_dotenv\n",
    "import alpaca_trade_api as tradeapi\n",
    "from MCForecastTools1 import MCSimulation"
   ]
  },
  {
   "cell_type": "code",
   "execution_count": 3,
   "id": "1446eb01-7859-4db6-854f-81229fdbe1b5",
   "metadata": {},
   "outputs": [
    {
     "data": {
      "text/plain": [
       "True"
      ]
     },
     "execution_count": 3,
     "metadata": {},
     "output_type": "execute_result"
    }
   ],
   "source": [
    "load_dotenv()"
   ]
  },
  {
   "cell_type": "code",
   "execution_count": 4,
   "id": "ad47368f-d34f-4fe4-9f39-bebb53630aee",
   "metadata": {},
   "outputs": [],
   "source": [
    "api_key = os.getenv(\"ALPACA_API_KEY\")\n",
    "secret_key = os.getenv(\"ALPACA_SECRET_KEY\")"
   ]
  },
  {
   "cell_type": "code",
   "execution_count": 5,
   "id": "df46153e-5b18-4404-9e9c-eb54f99ffc00",
   "metadata": {},
   "outputs": [],
   "source": [
    "alpaca = tradeapi.REST(\n",
    "    api_key,\n",
    "    secret_key,\n",
    "    api_version=\"v2\")"
   ]
  },
  {
   "cell_type": "code",
   "execution_count": null,
   "id": "0e138a46-f84d-4f96-ae3c-eef16dfbc2b0",
   "metadata": {},
   "outputs": [],
   "source": [
    "start_date = pd.Timestamp('2018-06-15', tz='America/New_York').isoformat()\n",
    "end_date = pd.Timestamp('2023-06-15', tz='America/New_York').isoformat()\n",
    "\n",
    "tickers = [\"SHOP\",\"SSY\",\"FDX\", \"RIO\", \"HD\", \"SBUX\", \"SOFI\"]\n",
    "\n",
    "timeframe = \"1Day\"\n",
    "\n",
    "df_portfolio = alpaca.get_bars(\n",
    "    tickers,\n",
    "    timeframe,\n",
    "    start = start_date,\n",
    "    end = end_date\n",
    ").df"
   ]
  },
  {
   "cell_type": "code",
   "execution_count": null,
   "id": "73f7e90f-8e91-4ede-8599-6e8c1aef24bc",
   "metadata": {},
   "outputs": [],
   "source": []
  }
 ],
 "metadata": {
  "kernelspec": {
   "display_name": "Python 3 (ipykernel)",
   "language": "python",
   "name": "python3"
  },
  "language_info": {
   "codemirror_mode": {
    "name": "ipython",
    "version": 3
   },
   "file_extension": ".py",
   "mimetype": "text/x-python",
   "name": "python",
   "nbconvert_exporter": "python",
   "pygments_lexer": "ipython3",
   "version": "3.10.9"
  }
 },
 "nbformat": 4,
 "nbformat_minor": 5
}
